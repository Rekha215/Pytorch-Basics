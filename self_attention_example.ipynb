{
  "nbformat": 4,
  "nbformat_minor": 0,
  "metadata": {
    "colab": {
      "provenance": []
    },
    "kernelspec": {
      "name": "python3",
      "display_name": "Python 3"
    },
    "language_info": {
      "name": "python"
    }
  },
  "cells": [
    {
      "cell_type": "code",
      "execution_count": 1,
      "metadata": {
        "id": "xE_l0QBx6p6F"
      },
      "outputs": [],
      "source": [
        "# self attention"
      ]
    },
    {
      "cell_type": "code",
      "source": [
        "import torch"
      ],
      "metadata": {
        "id": "mit9H32I7GkN"
      },
      "execution_count": 2,
      "outputs": []
    },
    {
      "cell_type": "code",
      "source": [
        "# sentence = \"self attention demo\"\n",
        "x = torch.randn(3,4)"
      ],
      "metadata": {
        "id": "wXsnSE4g6sRb"
      },
      "execution_count": 3,
      "outputs": []
    },
    {
      "cell_type": "code",
      "source": [
        "x"
      ],
      "metadata": {
        "colab": {
          "base_uri": "https://localhost:8080/"
        },
        "id": "jDogpf7C8yOQ",
        "outputId": "6550a91e-35f5-4514-847a-b6f934698a9e"
      },
      "execution_count": 4,
      "outputs": [
        {
          "output_type": "execute_result",
          "data": {
            "text/plain": [
              "tensor([[ 0.7373,  0.3671, -1.4128,  0.6807],\n",
              "        [-1.2768, -0.2062,  0.5206, -3.0519],\n",
              "        [ 1.4501,  1.6386,  0.4531,  0.2745]])"
            ]
          },
          "metadata": {},
          "execution_count": 4
        }
      ]
    },
    {
      "cell_type": "code",
      "source": [
        "w_q = torch.randn(4,2)"
      ],
      "metadata": {
        "id": "3ervAWAW8yvS"
      },
      "execution_count": 5,
      "outputs": []
    },
    {
      "cell_type": "code",
      "source": [
        "w_k = torch.randn(4,2)"
      ],
      "metadata": {
        "id": "7JAAGAJw85JV"
      },
      "execution_count": 6,
      "outputs": []
    },
    {
      "cell_type": "code",
      "source": [
        "w_v = torch.randn(4,2)"
      ],
      "metadata": {
        "id": "ED6ka82I88mN"
      },
      "execution_count": 7,
      "outputs": []
    },
    {
      "cell_type": "code",
      "source": [
        "Q = x @ w_q\n",
        "K = x @ w_k\n",
        "V = x @ w_v"
      ],
      "metadata": {
        "id": "3e6LOTST9QY7"
      },
      "execution_count": 8,
      "outputs": []
    },
    {
      "cell_type": "code",
      "source": [
        "scores = Q @ K.T"
      ],
      "metadata": {
        "id": "-84tuG5n9AOi"
      },
      "execution_count": 9,
      "outputs": []
    },
    {
      "cell_type": "code",
      "source": [
        "scores"
      ],
      "metadata": {
        "colab": {
          "base_uri": "https://localhost:8080/"
        },
        "id": "OVFIiUxb9Y-E",
        "outputId": "d02fa5c9-ecd3-4d84-f179-058823851951"
      },
      "execution_count": 10,
      "outputs": [
        {
          "output_type": "execute_result",
          "data": {
            "text/plain": [
              "tensor([[ -2.6887,   9.1645,  -6.1777],\n",
              "        [  5.2639, -18.2668,  30.3794],\n",
              "        [ -4.0348,  13.6788,  -5.1203]])"
            ]
          },
          "metadata": {},
          "execution_count": 10
        }
      ]
    },
    {
      "cell_type": "code",
      "source": [
        "d_k = Q.shape[-1]"
      ],
      "metadata": {
        "id": "afhsbbuF9hay"
      },
      "execution_count": 11,
      "outputs": []
    },
    {
      "cell_type": "code",
      "source": [
        "d_k"
      ],
      "metadata": {
        "colab": {
          "base_uri": "https://localhost:8080/"
        },
        "id": "ZsWi-6eUoaDW",
        "outputId": "55d04005-b230-4e6e-d057-9f7b17b39ec2"
      },
      "execution_count": 12,
      "outputs": [
        {
          "output_type": "execute_result",
          "data": {
            "text/plain": [
              "2"
            ]
          },
          "metadata": {},
          "execution_count": 12
        }
      ]
    },
    {
      "cell_type": "code",
      "source": [
        "scores = scores/torch.sqrt(torch.tensor(d_k, dtype=torch.float32))"
      ],
      "metadata": {
        "id": "DnwUTkDe9Z2g"
      },
      "execution_count": 13,
      "outputs": []
    },
    {
      "cell_type": "code",
      "source": [
        "scores"
      ],
      "metadata": {
        "colab": {
          "base_uri": "https://localhost:8080/"
        },
        "id": "LxouDoUG9xrK",
        "outputId": "d560eb31-34c0-4848-ccc1-3d6469fc70d2"
      },
      "execution_count": 14,
      "outputs": [
        {
          "output_type": "execute_result",
          "data": {
            "text/plain": [
              "tensor([[ -1.9012,   6.4803,  -4.3683],\n",
              "        [  3.7221, -12.9166,  21.4814],\n",
              "        [ -2.8530,   9.6724,  -3.6206]])"
            ]
          },
          "metadata": {},
          "execution_count": 14
        }
      ]
    },
    {
      "cell_type": "code",
      "source": [
        "exp_scores = torch.exp(scores)\n",
        "row_sum = exp_scores.sum(dim=-1, keepdim=True)\n",
        "atten_weights = exp_scores/row_sum"
      ],
      "metadata": {
        "id": "kBJjss6p93m3"
      },
      "execution_count": 15,
      "outputs": []
    },
    {
      "cell_type": "code",
      "source": [
        "atten_weights"
      ],
      "metadata": {
        "colab": {
          "base_uri": "https://localhost:8080/"
        },
        "id": "6zrWGiop_C1B",
        "outputId": "67b59d87-3bc8-48eb-85ec-eabbed382109"
      },
      "execution_count": 16,
      "outputs": [
        {
          "output_type": "execute_result",
          "data": {
            "text/plain": [
              "tensor([[2.2900e-04, 9.9975e-01, 1.9426e-05],\n",
              "        [1.9374e-08, 1.1511e-15, 1.0000e+00],\n",
              "        [3.6330e-06, 9.9999e-01, 1.6863e-06]])"
            ]
          },
          "metadata": {},
          "execution_count": 16
        }
      ]
    },
    {
      "cell_type": "code",
      "source": [
        "exp_scores"
      ],
      "metadata": {
        "colab": {
          "base_uri": "https://localhost:8080/"
        },
        "id": "cD6T0-mh_XQv",
        "outputId": "3d24587c-44c7-457d-d12d-cf95b3d79bbb"
      },
      "execution_count": 17,
      "outputs": [
        {
          "output_type": "execute_result",
          "data": {
            "text/plain": [
              "tensor([[1.4939e-01, 6.5216e+02, 1.2672e-02],\n",
              "        [4.1353e+01, 2.4570e-06, 2.1344e+09],\n",
              "        [5.7669e-02, 1.5873e+04, 2.6767e-02]])"
            ]
          },
          "metadata": {},
          "execution_count": 17
        }
      ]
    },
    {
      "cell_type": "code",
      "source": [
        "row_sum"
      ],
      "metadata": {
        "colab": {
          "base_uri": "https://localhost:8080/"
        },
        "id": "lu62W_Jk_ZiD",
        "outputId": "5d0052f7-be80-4209-866a-c1ab5fce2cf9"
      },
      "execution_count": 18,
      "outputs": [
        {
          "output_type": "execute_result",
          "data": {
            "text/plain": [
              "tensor([[6.5233e+02],\n",
              "        [2.1344e+09],\n",
              "        [1.5873e+04]])"
            ]
          },
          "metadata": {},
          "execution_count": 18
        }
      ]
    },
    {
      "cell_type": "code",
      "source": [
        "out = atten_weights @ V"
      ],
      "metadata": {
        "id": "1o3GPSAc_zQF"
      },
      "execution_count": 19,
      "outputs": []
    },
    {
      "cell_type": "code",
      "source": [
        "out"
      ],
      "metadata": {
        "colab": {
          "base_uri": "https://localhost:8080/"
        },
        "id": "4sAtux_aAV6Q",
        "outputId": "867550e7-fc78-43e2-a900-7035d12ab4a3"
      },
      "execution_count": 20,
      "outputs": [
        {
          "output_type": "execute_result",
          "data": {
            "text/plain": [
              "tensor([[-5.9810,  0.1907],\n",
              "        [ 0.3527,  1.5284],\n",
              "        [-5.9826,  0.1910]])"
            ]
          },
          "metadata": {},
          "execution_count": 20
        }
      ]
    },
    {
      "cell_type": "code",
      "source": [
        "w_next = torch.randn(2,4)"
      ],
      "metadata": {
        "id": "JTFwvG1dAWf7"
      },
      "execution_count": 21,
      "outputs": []
    },
    {
      "cell_type": "code",
      "source": [
        "embeddings_next = out @ w_next"
      ],
      "metadata": {
        "id": "js7Os01NBdh1"
      },
      "execution_count": 22,
      "outputs": []
    },
    {
      "cell_type": "code",
      "source": [
        "embeddings_next"
      ],
      "metadata": {
        "colab": {
          "base_uri": "https://localhost:8080/"
        },
        "id": "PI1aNBbSBkuY",
        "outputId": "1b327acd-4f8d-437d-f974-71f564b0a0f3"
      },
      "execution_count": 23,
      "outputs": [
        {
          "output_type": "execute_result",
          "data": {
            "text/plain": [
              "tensor([[-4.5297,  5.6394,  3.7796,  5.6330],\n",
              "        [ 1.8909,  0.7105,  0.4690, -1.8247],\n",
              "        [-4.5307,  5.6410,  3.7807,  5.6343]])"
            ]
          },
          "metadata": {},
          "execution_count": 23
        }
      ]
    }
  ]
}
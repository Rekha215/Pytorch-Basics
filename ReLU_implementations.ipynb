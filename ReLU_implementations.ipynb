{
  "nbformat": 4,
  "nbformat_minor": 0,
  "metadata": {
    "colab": {
      "provenance": []
    },
    "kernelspec": {
      "name": "python3",
      "display_name": "Python 3"
    },
    "language_info": {
      "name": "python"
    }
  },
  "cells": [
    {
      "cell_type": "code",
      "source": [
        "import torch\n",
        "import torch.nn as nn\n",
        "import torch.nn.functional as F"
      ],
      "metadata": {
        "id": "WEqt9p1DR_-R"
      },
      "execution_count": 1,
      "outputs": []
    },
    {
      "cell_type": "markdown",
      "source": [
        "### Way - 1"
      ],
      "metadata": {
        "id": "GZHavzVnSCUT"
      }
    },
    {
      "cell_type": "code",
      "execution_count": 2,
      "metadata": {
        "colab": {
          "base_uri": "https://localhost:8080/"
        },
        "id": "JLVlh9piQZlh",
        "outputId": "c7e16d97-d7bf-4359-86d5-0920affebe5f"
      },
      "outputs": [
        {
          "output_type": "stream",
          "name": "stdout",
          "text": [
            "tensor([0., 0., 2.])\n"
          ]
        }
      ],
      "source": [
        "x = torch.tensor([-1.0, 0.0, 2.0])\n",
        "relu_out = F.relu(x)\n",
        "print(relu_out)  # tensor([0., 0., 2.])"
      ]
    },
    {
      "cell_type": "markdown",
      "source": [
        "### Way - 2"
      ],
      "metadata": {
        "id": "oJqPUGYVSHfE"
      }
    },
    {
      "cell_type": "code",
      "source": [
        "x = torch.tensor([-1.0, 0.0, 2.0])\n",
        "relu = nn.ReLU()\n",
        "relu_out = relu(x)\n",
        "print(relu_out)"
      ],
      "metadata": {
        "colab": {
          "base_uri": "https://localhost:8080/"
        },
        "id": "UGOggoUAQgdQ",
        "outputId": "2c4ec058-1e32-4a66-fa51-25a019a4162b"
      },
      "execution_count": 3,
      "outputs": [
        {
          "output_type": "stream",
          "name": "stdout",
          "text": [
            "tensor([0., 0., 2.])\n"
          ]
        }
      ]
    },
    {
      "cell_type": "markdown",
      "source": [
        "### Way - 3"
      ],
      "metadata": {
        "id": "EiS-AJOnSJPJ"
      }
    },
    {
      "cell_type": "code",
      "source": [
        "x = torch.tensor([-1.0, 0.0, 2.0])\n",
        "relu_out = torch.clamp(x, min=0)\n",
        "print(relu_out)"
      ],
      "metadata": {
        "colab": {
          "base_uri": "https://localhost:8080/"
        },
        "id": "YcO1Rh9qQnf0",
        "outputId": "4d05f030-ee2a-4e07-8981-ddfb5e342086"
      },
      "execution_count": 4,
      "outputs": [
        {
          "output_type": "stream",
          "name": "stdout",
          "text": [
            "tensor([0., 0., 2.])\n"
          ]
        }
      ]
    },
    {
      "cell_type": "markdown",
      "source": [
        "### Way - 4"
      ],
      "metadata": {
        "id": "b3mIBIpKSNC2"
      }
    },
    {
      "cell_type": "code",
      "source": [
        "x = torch.tensor([-1.0, 0.0, 2.0])\n",
        "x [x < 0] = 0\n",
        "print(x)"
      ],
      "metadata": {
        "colab": {
          "base_uri": "https://localhost:8080/"
        },
        "id": "4lgJy13vQtMC",
        "outputId": "c2dab9c0-a2bc-4be1-c5f4-9625fe888d6a"
      },
      "execution_count": 5,
      "outputs": [
        {
          "output_type": "stream",
          "name": "stdout",
          "text": [
            "tensor([0., 0., 2.])\n"
          ]
        }
      ]
    },
    {
      "cell_type": "markdown",
      "source": [
        "### Way - 5"
      ],
      "metadata": {
        "id": "3nJs4ILBSOjs"
      }
    },
    {
      "cell_type": "code",
      "source": [
        "x = torch.tensor([-1.0, 0.0, 2.0])\n",
        "zero_tensor = torch.zeros_like(x)\n",
        "relu_out = torch.maximum(x, zero_tensor)\n",
        "print(relu_out)"
      ],
      "metadata": {
        "colab": {
          "base_uri": "https://localhost:8080/"
        },
        "id": "b-TUYgkUQxCG",
        "outputId": "5a0a83c2-0596-49b4-d34b-e99fcc024059"
      },
      "execution_count": 6,
      "outputs": [
        {
          "output_type": "stream",
          "name": "stdout",
          "text": [
            "tensor([0., 0., 2.])\n"
          ]
        }
      ]
    },
    {
      "cell_type": "markdown",
      "source": [
        "### Way - 6"
      ],
      "metadata": {
        "id": "l01cHUkNSQ4O"
      }
    },
    {
      "cell_type": "code",
      "source": [
        "x = torch.tensor([-1.0, 0.0, 2.0])\n",
        "mask = x < 0                    # Identify negative values\n",
        "relu_out = x.masked_fill(mask, 0.0)\n",
        "print(relu_out)  # tensor([0., 0., 2.])"
      ],
      "metadata": {
        "colab": {
          "base_uri": "https://localhost:8080/"
        },
        "id": "NnEGiYWjRB2x",
        "outputId": "45f4d1fa-1f24-401b-b0c4-505d2c44353b"
      },
      "execution_count": 7,
      "outputs": [
        {
          "output_type": "stream",
          "name": "stdout",
          "text": [
            "tensor([0., 0., 2.])\n"
          ]
        }
      ]
    }
  ]
}
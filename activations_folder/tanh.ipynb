{
  "nbformat": 4,
  "nbformat_minor": 0,
  "metadata": {
    "colab": {
      "provenance": []
    },
    "kernelspec": {
      "name": "python3",
      "display_name": "Python 3"
    },
    "language_info": {
      "name": "python"
    }
  },
  "cells": [
    {
      "cell_type": "code",
      "source": [
        "# tanh activation"
      ],
      "metadata": {
        "id": "Uw315XrZPQTD"
      },
      "execution_count": null,
      "outputs": []
    },
    {
      "cell_type": "markdown",
      "source": [
        "The **tanh (hyperbolic tangent) activation function** maps any real-valued number to a value between **-1 and 1** using the formula:\n",
        "\n",
        "$$\n",
        "\\tanh(x) = \\frac{e^x - e^{-x}}{e^x + e^{-x}}\n",
        "$$\n",
        "\n",
        "It is commonly used in neural networks because it is **zero-centered** and can help with faster convergence during training."
      ],
      "metadata": {
        "id": "yukGAnXNOwQw"
      }
    },
    {
      "cell_type": "code",
      "execution_count": 7,
      "metadata": {
        "colab": {
          "base_uri": "https://localhost:8080/"
        },
        "id": "kuGR0GSILpxu",
        "outputId": "5a22b7f5-fa96-4122-c480-a3edac074a23"
      },
      "outputs": [
        {
          "output_type": "stream",
          "name": "stdout",
          "text": [
            "Input:\n",
            " tensor([[ 0.2582,  0.7962],\n",
            "        [ 0.3152, -0.0294],\n",
            "        [ 1.9997,  0.3793]])\n",
            "-------------------------------------------\n",
            "tanh (torch built-in):\n",
            " tensor([[ 0.2526,  0.6619],\n",
            "        [ 0.3052, -0.0294],\n",
            "        [ 0.9640,  0.3621]])\n",
            "-------------------------------------------\n",
            "tanh (manual computation):\n",
            " tensor([[ 0.2526,  0.6619],\n",
            "        [ 0.3052, -0.0294],\n",
            "        [ 0.9640,  0.3621]])\n"
          ]
        }
      ],
      "source": [
        "import torch\n",
        "\n",
        "# Create a (3, 2) tensor with random normal values\n",
        "x = torch.randn(3, 2)\n",
        "\n",
        "# Apply tanh using PyTorch's built-in function\n",
        "y = torch.tanh(x)\n",
        "\n",
        "# Apply tanh manually using the definition\n",
        "y_manually = (torch.exp(x) - torch.exp(-x)) / (torch.exp(x) + torch.exp(-x))\n",
        "\n",
        "# Print results\n",
        "print(\"Input:\\n\", x)\n",
        "print(\"-------------------------------------------\")\n",
        "print(\"tanh (torch built-in):\\n\", y)\n",
        "print(\"-------------------------------------------\")\n",
        "print(\"tanh (manual computation):\\n\", y_manually)"
      ]
    },
    {
      "cell_type": "code",
      "source": [],
      "metadata": {
        "id": "jnYD-PcGOEMQ"
      },
      "execution_count": null,
      "outputs": []
    }
  ]
}
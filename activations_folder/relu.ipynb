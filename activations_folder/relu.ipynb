{
  "nbformat": 4,
  "nbformat_minor": 0,
  "metadata": {
    "colab": {
      "provenance": []
    },
    "kernelspec": {
      "name": "python3",
      "display_name": "Python 3"
    },
    "language_info": {
      "name": "python"
    }
  },
  "cells": [
    {
      "cell_type": "code",
      "source": [
        "# ReLU activation"
      ],
      "metadata": {
        "id": "LPGyU0ndm12J"
      },
      "execution_count": 1,
      "outputs": []
    },
    {
      "cell_type": "markdown",
      "source": [
        "### ReLU (Rectified Linear Unit)\n",
        "\n",
        "The ReLU function is defined as:\n",
        "\n",
        "$$\n",
        "\\text{ReLU}(x) = \\max(0, x)\n",
        "$$\n",
        "\n",
        "This means:\n",
        "$$\n",
        "\\text{If } x > 0, \\text{ then } \\text{ReLU}(x) = x \\\\\n",
        "\\text{If } x <= 0, \\text{ then } \\text{ReLU}(x) = 0\n",
        "$$\n",
        "\n",
        "\n"
      ],
      "metadata": {
        "id": "aOdyRahfm2P0"
      }
    },
    {
      "cell_type": "code",
      "source": [
        "import torch\n",
        "import torch.nn as nn\n",
        "import torch.nn.functional as F"
      ],
      "metadata": {
        "id": "WEqt9p1DR_-R"
      },
      "execution_count": 2,
      "outputs": []
    },
    {
      "cell_type": "markdown",
      "source": [
        "### Way - 1"
      ],
      "metadata": {
        "id": "GZHavzVnSCUT"
      }
    },
    {
      "cell_type": "code",
      "execution_count": 3,
      "metadata": {
        "colab": {
          "base_uri": "https://localhost:8080/"
        },
        "id": "JLVlh9piQZlh",
        "outputId": "369dc6d4-76cd-4385-89d2-a77470ad1fc1"
      },
      "outputs": [
        {
          "output_type": "stream",
          "name": "stdout",
          "text": [
            "tensor([0., 0., 2.])\n"
          ]
        }
      ],
      "source": [
        "x = torch.tensor([-1.0, 0.0, 2.0])\n",
        "relu_out = F.relu(x)\n",
        "print(relu_out)  # tensor([0., 0., 2.])"
      ]
    },
    {
      "cell_type": "markdown",
      "source": [
        "### Way - 2"
      ],
      "metadata": {
        "id": "oJqPUGYVSHfE"
      }
    },
    {
      "cell_type": "code",
      "source": [
        "x = torch.tensor([-1.0, 0.0, 2.0])\n",
        "relu = nn.ReLU()\n",
        "relu_out = relu(x)\n",
        "print(relu_out)"
      ],
      "metadata": {
        "colab": {
          "base_uri": "https://localhost:8080/"
        },
        "id": "UGOggoUAQgdQ",
        "outputId": "eb5fc10d-2899-4686-898d-1bbe15293334"
      },
      "execution_count": 4,
      "outputs": [
        {
          "output_type": "stream",
          "name": "stdout",
          "text": [
            "tensor([0., 0., 2.])\n"
          ]
        }
      ]
    },
    {
      "cell_type": "markdown",
      "source": [
        "### Way - 3"
      ],
      "metadata": {
        "id": "EiS-AJOnSJPJ"
      }
    },
    {
      "cell_type": "code",
      "source": [
        "x = torch.tensor([-1.0, 0.0, 2.0])\n",
        "relu_out = torch.clamp(x, min=0)\n",
        "print(relu_out)"
      ],
      "metadata": {
        "colab": {
          "base_uri": "https://localhost:8080/"
        },
        "id": "YcO1Rh9qQnf0",
        "outputId": "4d2faecb-c73e-4fd6-90bc-d4157bffd0fe"
      },
      "execution_count": 5,
      "outputs": [
        {
          "output_type": "stream",
          "name": "stdout",
          "text": [
            "tensor([0., 0., 2.])\n"
          ]
        }
      ]
    },
    {
      "cell_type": "markdown",
      "source": [
        "### Way - 4"
      ],
      "metadata": {
        "id": "b3mIBIpKSNC2"
      }
    },
    {
      "cell_type": "code",
      "source": [
        "x = torch.tensor([-1.0, 0.0, 2.0])\n",
        "x [x < 0] = 0\n",
        "print(x)"
      ],
      "metadata": {
        "colab": {
          "base_uri": "https://localhost:8080/"
        },
        "id": "4lgJy13vQtMC",
        "outputId": "92f8457a-4f36-4890-adbd-c2e009709bfd"
      },
      "execution_count": 6,
      "outputs": [
        {
          "output_type": "stream",
          "name": "stdout",
          "text": [
            "tensor([0., 0., 2.])\n"
          ]
        }
      ]
    },
    {
      "cell_type": "markdown",
      "source": [
        "### Way - 5"
      ],
      "metadata": {
        "id": "3nJs4ILBSOjs"
      }
    },
    {
      "cell_type": "code",
      "source": [
        "x = torch.tensor([-1.0, 0.0, 2.0])\n",
        "zero_tensor = torch.zeros_like(x)\n",
        "relu_out = torch.maximum(x, zero_tensor)\n",
        "print(relu_out)"
      ],
      "metadata": {
        "colab": {
          "base_uri": "https://localhost:8080/"
        },
        "id": "b-TUYgkUQxCG",
        "outputId": "7e7d740c-8d3f-4e34-daaa-5ac3e3850366"
      },
      "execution_count": 7,
      "outputs": [
        {
          "output_type": "stream",
          "name": "stdout",
          "text": [
            "tensor([0., 0., 2.])\n"
          ]
        }
      ]
    },
    {
      "cell_type": "markdown",
      "source": [
        "### Way - 6"
      ],
      "metadata": {
        "id": "l01cHUkNSQ4O"
      }
    },
    {
      "cell_type": "code",
      "source": [
        "x = torch.tensor([-1.0, 0.0, 2.0])\n",
        "mask = x < 0                    # Identify negative values\n",
        "relu_out = x.masked_fill(mask, 0.0)\n",
        "print(relu_out)  # tensor([0., 0., 2.])"
      ],
      "metadata": {
        "colab": {
          "base_uri": "https://localhost:8080/"
        },
        "id": "NnEGiYWjRB2x",
        "outputId": "78221e50-7d23-40b6-9d52-1ecde06b112e"
      },
      "execution_count": 8,
      "outputs": [
        {
          "output_type": "stream",
          "name": "stdout",
          "text": [
            "tensor([0., 0., 2.])\n"
          ]
        }
      ]
    }
  ]
}
{
  "nbformat": 4,
  "nbformat_minor": 0,
  "metadata": {
    "colab": {
      "provenance": []
    },
    "kernelspec": {
      "name": "python3",
      "display_name": "Python 3"
    },
    "language_info": {
      "name": "python"
    }
  },
  "cells": [
    {
      "cell_type": "code",
      "source": [
        "# Sigmoid activation"
      ],
      "metadata": {
        "id": "Uw315XrZPQTD"
      },
      "execution_count": null,
      "outputs": []
    },
    {
      "cell_type": "markdown",
      "source": [
        "The **sigmoid function** maps any real-valued number to a value between **0 and 1** using the formula:  \n",
        "\n",
        "$$\n",
        "\\sigma(x) = \\frac{1}{1 + e^{-x}}\n",
        "$$\n",
        "\n",
        "It is commonly used in machine learning to convert outputs into probabilities."
      ],
      "metadata": {
        "id": "yukGAnXNOwQw"
      }
    },
    {
      "cell_type": "code",
      "execution_count": 5,
      "metadata": {
        "colab": {
          "base_uri": "https://localhost:8080/"
        },
        "id": "kuGR0GSILpxu",
        "outputId": "c31ddaed-4513-4033-cc93-f958b68a3ee6"
      },
      "outputs": [
        {
          "output_type": "stream",
          "name": "stdout",
          "text": [
            "Input:\n",
            " tensor([[-0.2463,  0.2668],\n",
            "        [-1.1206,  1.2460],\n",
            "        [ 0.6280,  0.7460]])\n",
            "-------------------------------------------\n",
            "Sigmoid Output:\n",
            " tensor([[0.4387, 0.5663],\n",
            "        [0.2459, 0.7766],\n",
            "        [0.6520, 0.6783]])\n",
            "-------------------------------------------\n",
            "Sigmoid Output Manually:\n",
            " tensor([[0.4387, 0.5663],\n",
            "        [0.2459, 0.7766],\n",
            "        [0.6520, 0.6783]])\n"
          ]
        }
      ],
      "source": [
        "import torch\n",
        "\n",
        "# Create a (3, 2) tensor with random normal values\n",
        "x = torch.randn(3, 2)\n",
        "\n",
        "# Apply sigmoid (built-in)\n",
        "y = torch.sigmoid(x)\n",
        "\n",
        "# OR manually (optional)\n",
        "y_manually = 1 / (1 + torch.exp(-x))\n",
        "\n",
        "print(\"Input:\\n\", x)\n",
        "print(\"-------------------------------------------\")\n",
        "print(\"Sigmoid Output:\\n\", y)\n",
        "print(\"-------------------------------------------\")\n",
        "print(\"Sigmoid Output Manually:\\n\", y_manually)"
      ]
    },
    {
      "cell_type": "code",
      "source": [],
      "metadata": {
        "id": "jnYD-PcGOEMQ"
      },
      "execution_count": null,
      "outputs": []
    }
  ]
}